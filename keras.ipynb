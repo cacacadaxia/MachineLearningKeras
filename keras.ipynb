{
 "metadata": {
  "language_info": {
   "codemirror_mode": {
    "name": "ipython",
    "version": 3
   },
   "file_extension": ".py",
   "mimetype": "text/x-python",
   "name": "python",
   "nbconvert_exporter": "python",
   "pygments_lexer": "ipython3",
   "version": 3
  },
  "orig_nbformat": 2,
  "kernelspec": {
   "name": "python_defaultSpec_1596036622551",
   "display_name": "Python 3.8.3 64-bit"
  }
 },
 "nbformat": 4,
 "nbformat_minor": 2,
 "cells": [
  {
   "cell_type": "code",
   "execution_count": 8,
   "metadata": {},
   "outputs": [],
   "source": [
    "from keras import models\n",
    "from keras import layers\n"
   ]
  },
  {
   "cell_type": "code",
   "execution_count": 41,
   "metadata": {
    "tags": []
   },
   "outputs": [],
   "source": [
    "# 导入手写的数据\n",
    "from keras.datasets import mnist\n",
    "(train_imgs,train_labs),(test_imgs,test_labs) = mnist.load_data()"
   ]
  },
  {
   "cell_type": "code",
   "execution_count": 22,
   "metadata": {},
   "outputs": [],
   "source": [
    "network = models.Sequential()\n",
    "# 这个网络包含两个Dense层\n",
    "# 其实很好理解，第一层是512，第二层是10，正好对应结果\n",
    "# activation对应激励函数是什么\n",
    "network.add(layers.Dense(512,activation='relu',input_shape= (28*28 , )))\n",
    "network.add(layers.Dense(10,activation='softmax'))\n",
    "# 大多数深度学习都是将简单的层链接起来，从而实现渐进式的数据蒸馏(data distillation)。"
   ]
  },
  {
   "cell_type": "code",
   "execution_count": 23,
   "metadata": {},
   "outputs": [],
   "source": [
    "# 进行网络的编译\n",
    "# categorical_crossentropy表示损失函数\n",
    "network.compile(optimizer='rmsprop',\n",
    "                loss='categorical_crossentropy',\n",
    "                metrics=['accuracy'])"
   ]
  },
  {
   "cell_type": "code",
   "execution_count": 24,
   "metadata": {},
   "outputs": [],
   "source": [
    "train_imgs = train_imgs.reshape((60000,28*28))\n",
    "train_imgs = train_imgs.astype('float32')/255\n",
    "\n",
    "test_imgs = test_imgs.reshape((10000,28*28))\n",
    "test_imgs = test_imgs.astype('float32')/255\n",
    "\n",
    "from keras.utils import to_categorical\n",
    "# 这个过程应该是求损失函数的？\n",
    "train_labs = to_categorical(train_labs)\n",
    "test_labs = to_categorical(test_labs)"
   ]
  },
  {
   "cell_type": "code",
   "execution_count": 26,
   "metadata": {
    "tags": []
   },
   "outputs": [
    {
     "output_type": "stream",
     "name": "stdout",
     "text": "Epoch 1/5\n469/469 [==============================] - 2s 5ms/step - loss: 0.2522 - accuracy: 0.9266\nEpoch 2/5\n469/469 [==============================] - 2s 5ms/step - loss: 0.1029 - accuracy: 0.9687\nEpoch 3/5\n469/469 [==============================] - 2s 5ms/step - loss: 0.0685 - accuracy: 0.9793\nEpoch 4/5\n469/469 [==============================] - 2s 5ms/step - loss: 0.0495 - accuracy: 0.9855\nEpoch 5/5\n469/469 [==============================] - 2s 5ms/step - loss: 0.0376 - accuracy: 0.9888\n"
    },
    {
     "output_type": "execute_result",
     "data": {
      "text/plain": "<tensorflow.python.keras.callbacks.History at 0x15e4772b0>"
     },
     "metadata": {},
     "execution_count": 26
    }
   ],
   "source": [
    "# 训练循环\n",
    "network.fit(train_imgs,train_labs,epochs=5,batch_size=128)\n"
   ]
  },
  {
   "cell_type": "code",
   "execution_count": 27,
   "metadata": {
    "tags": []
   },
   "outputs": [
    {
     "output_type": "stream",
     "name": "stdout",
     "text": "313/313 [==============================] - 1s 2ms/step - loss: 0.0718 - accuracy: 0.9795\n"
    }
   ],
   "source": [
    "test_loss , test_acc = network.evaluate(test_imgs,test_labs)"
   ]
  },
  {
   "cell_type": "code",
   "execution_count": 51,
   "metadata": {
    "tags": []
   },
   "outputs": [],
   "source": [
    "from keras.datasets import imdb\n",
    "(train_data,train_labs),(test_data,test_labs) = imdb.load_data(num_words=1000)"
   ]
  },
  {
   "cell_type": "code",
   "execution_count": 54,
   "metadata": {},
   "outputs": [
    {
     "output_type": "execute_result",
     "data": {
      "text/plain": "999"
     },
     "metadata": {},
     "execution_count": 54
    }
   ],
   "source": [
    "max([max(sequence) for sequence in train_data])"
   ]
  },
  {
   "cell_type": "code",
   "execution_count": 60,
   "metadata": {
    "tags": []
   },
   "outputs": [],
   "source": [
    "# 解码为英文单词\n",
    "word_index = imdb.get_word_index()\n",
    "reverse_word_index = dict([(value,key)for (key,value) in word_index.items()])\n",
    "decoded_review = ' '.join(\n",
    "    [reverse_word_index.get(i-3,'?') for i in train_data[0]]\n",
    ")"
   ]
  },
  {
   "cell_type": "code",
   "execution_count": 61,
   "metadata": {},
   "outputs": [
    {
     "output_type": "execute_result",
     "data": {
      "text/plain": "\"? this film was just brilliant casting ? ? story direction ? really ? the part they played and you could just imagine being there robert ? is an amazing actor and now the same being director ? father came from the same ? ? as myself so i loved the fact there was a real ? with this film the ? ? throughout the film were great it was just brilliant so much that i ? the film as soon as it was released for ? and would recommend it to everyone to watch and the ? ? was amazing really ? at the end it was so sad and you know what they say if you ? at a film it must have been good and this definitely was also ? to the two little ? that played the ? of ? and paul they were just brilliant children are often left out of the ? ? i think because the stars that play them all ? up are such a big ? for the whole film but these children are amazing and should be ? for what they have done don't you think the whole story was so ? because it was true and was ? life after all that was ? with us all\""
     },
     "metadata": {},
     "execution_count": 61
    }
   ],
   "source": [
    "decoded_review"
   ]
  },
  {
   "cell_type": "code",
   "execution_count": 62,
   "metadata": {},
   "outputs": [],
   "source": [
    "def vectorize_sequence(sequence,dimension = 1000):\n",
    "    result = np.zeros((len(sequence),dimension))\n",
    "    for i,sequence in enumerate(sequence):\n",
    "        result[i,sequence] = 1\n",
    "    return result\n",
    "x_train = vectorize_sequence(train_data)\n",
    "x_test = vectorize_sequence(test_data)"
   ]
  },
  {
   "cell_type": "code",
   "execution_count": 64,
   "metadata": {},
   "outputs": [
    {
     "output_type": "execute_result",
     "data": {
      "text/plain": "(25000, 1000)"
     },
     "metadata": {},
     "execution_count": 64
    }
   ],
   "source": [
    "x_train.shape"
   ]
  },
  {
   "cell_type": "code",
   "execution_count": null,
   "metadata": {},
   "outputs": [],
   "source": []
  }
 ]
}